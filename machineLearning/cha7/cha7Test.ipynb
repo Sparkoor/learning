{
 "cells": [
  {
   "cell_type": "code",
   "execution_count": 2,
   "metadata": {
    "collapsed": true
   },
   "outputs": [
    {
     "name": "stdout",
     "output_type": "stream",
     "text": [
      "[[False False False]\n [False  True  True]\n [ True  True  True]]\n[[False]\n [ True]\n [ True]]\n"
     ]
    }
   ],
   "source": [
    "import numpy as np\n",
    "\n",
    "a = np.matrix([[1, 2, 3],\n",
    "               [4, 5, 6],\n",
    "               [7, 8, 9]])\n",
    "bb = a > 4\n",
    "print(bb)\n",
    "print(a[:, 2] > 4)\n"
   ]
  },
  {
   "cell_type": "code",
   "execution_count": null,
   "metadata": {},
   "outputs": [],
   "source": [
    "for i in range(-1, 11):\n",
    "    print(i)\n"
   ]
  },
  {
   "cell_type": "code",
   "execution_count": 10,
   "metadata": {},
   "outputs": [
    {
     "name": "stdout",
     "output_type": "stream",
     "text": [
      "[0, 4, 5, 1, 6, 2, 7, 3]\n[[2], [1], [2], [5], [7], [8]]\nss [[0]\n [0]\n [0]\n [0]\n [0]\n [0]]\n[[0]\n [0]\n [0]\n [0]\n [0]\n [0]]\n"
     ]
    }
   ],
   "source": [
    "import numpy as np\n",
    "\n",
    "a = np.array([1, 3, 4, 5, 1, 2, 3, 4])\n",
    "b = a.argsort()\n",
    "print(b.tolist())\n",
    "cc = np.matrix([[2], [1], [2], [5], [7], [8]])\n",
    "print(cc.tolist())\n",
    "ll = cc.tolist()\n",
    "ss=np.argsort(ll)\n",
    "print(\"ss\",ss)\n",
    "bb = np.argsort(cc)\n",
    "print(bb)\n"
   ]
  },
  {
   "cell_type": "code",
   "execution_count": null,
   "metadata": {},
   "outputs": [],
   "source": []
  }
 ],
 "metadata": {
  "kernelspec": {
   "display_name": "Python 2",
   "language": "python",
   "name": "python2"
  },
  "language_info": {
   "codemirror_mode": {
    "name": "ipython",
    "version": 2
   },
   "file_extension": ".py",
   "mimetype": "text/x-python",
   "name": "python",
   "nbconvert_exporter": "python",
   "pygments_lexer": "ipython2",
   "version": "2.7.6"
  }
 },
 "nbformat": 4,
 "nbformat_minor": 0
}
