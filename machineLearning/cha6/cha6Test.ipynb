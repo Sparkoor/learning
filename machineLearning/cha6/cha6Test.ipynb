{
 "cells": [
  {
   "cell_type": "code",
   "execution_count": 2,
   "metadata": {
    "collapsed": true
   },
   "outputs": [
    {
     "name": "stdout",
     "output_type": "stream",
     "text": [
      "<class 'tuple'>\n"
     ]
    }
   ],
   "source": [
    "aa = ('aa', 1)\n",
    "print(type(aa))\n"
   ]
  },
  {
   "cell_type": "code",
   "execution_count": 35,
   "metadata": {},
   "outputs": [
    {
     "name": "stdout",
     "output_type": "stream",
     "text": [
      "<class 'numpy.ndarray'>\n<class 'numpy.matrix'>\n<class 'numpy.ndarray'>\n[[1.]\n [1.]\n [1.]\n [1.]\n [1.]]\n[[1. 1. 1. 1. 1.]]\n"
     ]
    }
   ],
   "source": [
    "import numpy as np\n",
    "\n",
    "# numpy.ndarray 任意维度\n",
    "a = np.ones((5, 1))\n",
    "print(type(a))\n",
    "# numpy.matrix 只能是二维 \n",
    "b = np.mat(a)\n",
    "print(type(b))\n",
    "# 相互转化\n",
    "print(type(b.A))\n",
    "print(a)\n",
    "print(b.T)\n"
   ]
  },
  {
   "cell_type": "code",
   "execution_count": 34,
   "metadata": {},
   "outputs": [
    {
     "name": "stdout",
     "output_type": "stream",
     "text": [
      "[[False False False False  True False False False  True  True False False\n   True False]]\n[[ True  True  True  True  True  True  True  True  True False  True  True\n   True  True]]\n[[ 1  1  4  9 16  1  4  9 16 25  1  4 16  4]]\n(1, 14)\n[[False False False False  True False False False  True False False False\n   True False]]\n2\n(array([0, 0, 0], dtype=int32), array([ 4,  8, 12], dtype=int32))\na 0\n1\na 0\n1\na 0\n1\n"
     ]
    }
   ],
   "source": [
    "a = np.array([[1, 1, 2, 3, 4, 1, 2, 3, 4, 5, 1, 2, 4, 2]])\n",
    "s = [1, 1, 2, 3, 4, 1, 2, 3, 4, 5, 1, 2, 4, 2]\n",
    "print(a > 3)\n",
    "print(a < 5)\n",
    "print(a * a)\n",
    "# 注意行列的区别\n",
    "zz = np.nonzero((a > 3) * (a < 5))\n",
    "print(a.shape)\n",
    "# 计算的是交集\n",
    "print((a > 3) * (a < 5))\n",
    "print(np.array(zz).ndim)\n",
    "print(zz)\n",
    "for i in zz[0]:\n",
    "    print(\"a\", i)\n",
    "    c = s[i]\n",
    "    print(c)\n"
   ]
  },
  {
   "cell_type": "code",
   "execution_count": 2,
   "metadata": {},
   "outputs": [
    {
     "ename": "TypeError",
     "evalue": "only size-1 arrays can be converted to Python scalars",
     "traceback": [
      "\u001b[1;31m---------------------------------------------------------------------------\u001b[0m",
      "\u001b[1;31mTypeError\u001b[0m                                 Traceback (most recent call last)",
      "\u001b[1;32m<ipython-input-2-c70a1a6ef6e9>\u001b[0m in \u001b[0;36m<module>\u001b[1;34m\u001b[0m\n\u001b[0;32m      4\u001b[0m \u001b[0mb\u001b[0m \u001b[1;33m=\u001b[0m \u001b[0mnp\u001b[0m\u001b[1;33m.\u001b[0m\u001b[0mmat\u001b[0m\u001b[1;33m(\u001b[0m\u001b[0ma\u001b[0m\u001b[1;33m)\u001b[0m\u001b[1;33m\u001b[0m\u001b[1;33m\u001b[0m\u001b[0m\n\u001b[0;32m      5\u001b[0m \u001b[0mm\u001b[0m\u001b[1;33m,\u001b[0m \u001b[0mn\u001b[0m \u001b[1;33m=\u001b[0m \u001b[0mb\u001b[0m\u001b[1;33m.\u001b[0m\u001b[0mshape\u001b[0m\u001b[1;33m\u001b[0m\u001b[1;33m\u001b[0m\u001b[0m\n\u001b[1;32m----> 6\u001b[1;33m \u001b[0msumb\u001b[0m \u001b[1;33m=\u001b[0m \u001b[0mfloat\u001b[0m\u001b[1;33m(\u001b[0m\u001b[0mnp\u001b[0m\u001b[1;33m.\u001b[0m\u001b[0mzeros\u001b[0m\u001b[1;33m(\u001b[0m\u001b[1;33m(\u001b[0m\u001b[0mn\u001b[0m\u001b[1;33m,\u001b[0m \u001b[1;36m1\u001b[0m\u001b[1;33m)\u001b[0m\u001b[1;33m)\u001b[0m\u001b[1;33m.\u001b[0m\u001b[0mT\u001b[0m\u001b[1;33m)\u001b[0m\u001b[1;33m\u001b[0m\u001b[1;33m\u001b[0m\u001b[0m\n\u001b[0m\u001b[0;32m      7\u001b[0m \u001b[1;32mfor\u001b[0m \u001b[0mi\u001b[0m \u001b[1;32min\u001b[0m \u001b[0mrange\u001b[0m\u001b[1;33m(\u001b[0m\u001b[0mm\u001b[0m\u001b[1;33m)\u001b[0m\u001b[1;33m:\u001b[0m\u001b[1;33m\u001b[0m\u001b[1;33m\u001b[0m\u001b[0m\n\u001b[0;32m      8\u001b[0m     \u001b[0mprint\u001b[0m\u001b[1;33m(\u001b[0m\u001b[0mb\u001b[0m\u001b[1;33m[\u001b[0m\u001b[0mi\u001b[0m\u001b[1;33m,\u001b[0m \u001b[1;33m:\u001b[0m\u001b[1;33m]\u001b[0m\u001b[1;33m)\u001b[0m\u001b[1;33m\u001b[0m\u001b[1;33m\u001b[0m\u001b[0m\n",
      "\u001b[1;31mTypeError\u001b[0m: only size-1 arrays can be converted to Python scalars"
     ],
     "output_type": "error"
    }
   ],
   "source": [
    "import numpy as np\n",
    "a = np.array([[1, 2, 3],\n",
    "              [3, 4, 5]])\n",
    "b = np.mat(a)\n",
    "m, n = b.shape\n",
    "sumb = np.zeros((n, 1)).T\n",
    "for i in range(m):\n",
    "    print(b[i, :])\n",
    "    sumb += b[i, :]\n",
    "print(sumb)\n"
   ]
  },
  {
   "cell_type": "code",
   "execution_count": 5,
   "metadata": {},
   "outputs": [
    {
     "name": "stdout",
     "output_type": "stream",
     "text": [
      "[[1 2]\n [3 4]\n [5 6]]\n[[1 2]\n [3 4]\n [5 6]]\n[[1 2]\n [3 4]\n [5 6]]\n"
     ]
    }
   ],
   "source": [
    "import numpy as np\n",
    "\n",
    "lists = [1, 2, 3, 4, 5, 6]\n",
    "cc = np.mat(lists).reshape(3, 2)\n",
    "print(cc)\n",
    "dd=np.mat(cc)\n",
    "print(dd)\n",
    "print(dd.A)\n"
   ]
  },
  {
   "cell_type": "code",
   "execution_count": null,
   "metadata": {},
   "outputs": [],
   "source": []
  }
 ],
 "metadata": {
  "kernelspec": {
   "display_name": "Python 2",
   "language": "python",
   "name": "python2"
  },
  "language_info": {
   "codemirror_mode": {
    "name": "ipython",
    "version": 2
   },
   "file_extension": ".py",
   "mimetype": "text/x-python",
   "name": "python",
   "nbconvert_exporter": "python",
   "pygments_lexer": "ipython2",
   "version": "2.7.6"
  }
 },
 "nbformat": 4,
 "nbformat_minor": 0
}
