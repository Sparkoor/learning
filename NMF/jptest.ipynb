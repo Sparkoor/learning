{
 "cells": [
  {
   "cell_type": "code",
   "execution_count": 2,
   "metadata": {
    "pycharm": {
     "is_executing": false
    }
   },
   "outputs": [
    {
     "name": "stdout",
     "text": [
      "=\n=\n"
     ],
     "output_type": "stream"
    }
   ],
   "source": [
    "import numpy as np\n",
    "\n",
    "a=np.mat([[1,2,3],\n",
    "         [2,3,4]])\n",
    "print(a.dtype.byteorder)\n",
    "print(a.dtype.byteorder)"
   ]
  },
  {
   "cell_type": "code",
   "execution_count": 14,
   "outputs": [
    {
     "name": "stdout",
     "text": [
      "[1 2]\n[{1, 2, 3}, 'www', [2.1, 2.3, 4.5]]\ndefaultdict(<class 'list'>, {'aa': [[{1, 2, 3}, 'www', [2.1, 2.3, 4.5]]]})\n"
     ],
     "output_type": "stream"
    }
   ],
   "source": [
    "from collections import defaultdict\n",
    "a=np.array([1,2])\n",
    "print(a)\n",
    "aa=[{1,2,3,3},'www',[2.1,2.3,4.5]]\n",
    "print(aa)\n",
    "dd=defaultdict(list)\n",
    "dd['aa'].append(aa)\n",
    "print(dd)\n"
   ],
   "metadata": {
    "collapsed": false,
    "pycharm": {
     "name": "#%%\n",
     "is_executing": false
    }
   }
  },
  {
   "cell_type": "code",
   "execution_count": 2,
   "outputs": [
    {
     "name": "stdout",
     "text": [
      "[[0.376 0.312]\n [0.624 0.688]]\n"
     ],
     "output_type": "stream"
    }
   ],
   "source": [
    "import numpy as np\n",
    "\n",
    "p1=np.mat([[0.6,0.2],\n",
    "           [0.4,0.8]])\n",
    "p2=np.mat([[0.44,0.28],\n",
    "          [0.56,0.72]])\n",
    "\n",
    "a=np.dot(p2,p1)\n",
    "print(a)"
   ],
   "metadata": {
    "collapsed": false,
    "pycharm": {
     "name": "#%%\n",
     "is_executing": false
    }
   }
  },
  {
   "cell_type": "code",
   "execution_count": 40,
   "outputs": [
    {
     "name": "stdout",
     "text": [
      "1.7320508075688772\n[[0]]\n[[ 0.          0.61237244  0.61237244  0.46662826  0.06394568 -0.08564859\n   0.14433757]\n [-0.57735027 -0.40824829  0.40824829  0.20739034 -0.19183705  0.25694577\n  -0.4330127 ]\n [-0.57735027  0.20412415 -0.61237244  0.46662826  0.06394568 -0.08564859\n   0.14433757]\n [-0.57735027  0.20412415  0.20412415 -0.6740186   0.12789137 -0.17129718\n   0.28867513]\n [-0.          0.61237244 -0.20412415 -0.25923792 -0.25578273  0.34259435\n  -0.57735027]\n [-0.          0.          0.          0.         -0.66077206 -0.73657786\n  -0.14433757]\n [-0.          0.          0.          0.         -0.66077206  0.4796321\n   0.57735027]]\n[[-1.73205081 -1.15470054 -1.15470054 -1.15470054 -0.57735027  0.\n   0.        ]\n [ 0.          1.63299316  0.40824829  1.02062073 -0.40824829  0.61237244\n   0.61237244]\n [ 0.          0.          1.22474487  1.02062073  0.40824829 -0.20412415\n  -0.20412415]\n [ 0.          0.          0.          1.60727513  0.20739034 -0.25923792\n  -0.25923792]\n [ 0.          0.          0.          0.         -1.51338117 -0.9165548\n  -0.9165548 ]\n [ 0.          0.          0.          0.          0.          0.82222645\n  -0.39398351]\n [ 0.          0.          0.          0.          0.          0.\n  -0.72168784]]\n50\n1\n(array([11.7426607 ,  4.21103288,  0.10048337,  0.77667756,  2.13525978,\n        3.03388572,  1.        ]), matrix([[-6.35570283e-01, -2.77804000e-01,  1.94591897e-01,\n          2.85942900e-01, -6.21410257e-01,  1.14434689e-01,\n          2.63634077e-16],\n        [-4.73971721e-01,  8.57992648e-02, -5.76885094e-01,\n          1.85828207e-02,  1.56343330e-01, -6.40628070e-01,\n          1.31497452e-17],\n        [-4.32832366e-01, -1.00267335e-01,  1.26017399e-01,\n         -8.42468129e-01,  1.78439699e-01,  2.12435745e-01,\n         -7.96181721e-16],\n        [-3.73669157e-01, -1.37518706e-02,  3.42346802e-01,\n          4.37935642e-01,  7.25812439e-01,  1.56171674e-01,\n          3.97778753e-16],\n        [-1.82113910e-01,  5.67890172e-01, -4.80088650e-01,\n          1.02212675e-01, -5.43847507e-02,  6.32807263e-01,\n          2.35368035e-16],\n        [-7.50441603e-02,  5.39778438e-01,  3.64534465e-01,\n         -5.43310740e-02, -1.17906600e-01, -2.30799489e-01,\n         -7.07106781e-01],\n        [-7.50441603e-02,  5.39778438e-01,  3.64534465e-01,\n         -5.43310740e-02, -1.17906600e-01, -2.30799489e-01,\n          7.07106781e-01]]))\n[[6 3 3 2 1 0 0]\n [3 4 2 2 0 1 1]\n [3 2 3 2 1 0 0]\n [2 2 2 3 1 0 0]\n [1 0 1 1 3 1 1]\n [0 1 0 0 1 2 1]\n [0 1 0 0 1 1 2]]\n[[-6.35570283e-01  2.77804000e-01  1.14434689e-01 -6.21410257e-01\n   1.75554003e-17 -2.85942900e-01 -1.94591897e-01]\n [-4.73971721e-01 -8.57992648e-02 -6.40628070e-01  1.56343330e-01\n  -8.39625739e-17 -1.85828207e-02  5.76885094e-01]\n [-4.32832366e-01  1.00267335e-01  2.12435745e-01  1.78439699e-01\n   5.84320228e-17  8.42468129e-01 -1.26017399e-01]\n [-3.73669157e-01  1.37518706e-02  1.56171674e-01  7.25812439e-01\n   2.42131547e-17 -4.37935642e-01 -3.42346802e-01]\n [-1.82113910e-01 -5.67890172e-01  6.32807263e-01 -5.43847507e-02\n  -7.71670580e-17 -1.02212675e-01  4.80088650e-01]\n [-7.50441603e-02 -5.39778438e-01 -2.30799489e-01 -1.17906600e-01\n  -7.07106781e-01  5.43310740e-02 -3.64534465e-01]\n [-7.50441603e-02 -5.39778438e-01 -2.30799489e-01 -1.17906600e-01\n   7.07106781e-01  5.43310740e-02 -3.64534465e-01]]\n[11.7426607   4.21103288  3.03388572  2.13525978  1.          0.77667756\n  0.10048337]\n[[-6.35570283e-01 -4.73971721e-01 -4.32832366e-01 -3.73669157e-01\n  -1.82113910e-01 -7.50441603e-02 -7.50441603e-02]\n [ 2.77804000e-01 -8.57992648e-02  1.00267335e-01  1.37518706e-02\n  -5.67890172e-01 -5.39778438e-01 -5.39778438e-01]\n [ 1.14434689e-01 -6.40628070e-01  2.12435745e-01  1.56171674e-01\n   6.32807263e-01 -2.30799489e-01 -2.30799489e-01]\n [-6.21410257e-01  1.56343330e-01  1.78439699e-01  7.25812439e-01\n  -5.43847507e-02 -1.17906600e-01 -1.17906600e-01]\n [ 0.00000000e+00 -3.92173093e-17  6.28589920e-17  3.16772953e-18\n  -8.61904823e-17 -7.07106781e-01  7.07106781e-01]\n [-2.85942900e-01 -1.85828207e-02  8.42468129e-01 -4.37935642e-01\n  -1.02212675e-01  5.43310740e-02  5.43310740e-02]\n [-1.94591897e-01  5.76885094e-01 -1.26017399e-01 -3.42346802e-01\n   4.80088650e-01 -3.64534465e-01 -3.64534465e-01]]\n"
     ],
     "output_type": "stream"
    },
    {
     "data": {
      "text/plain": "array([-6.35570283e-01, -8.57992648e-02,  2.12435745e-01,  7.25812439e-01,\n       -7.71670580e-17,  5.43310740e-02, -3.64534465e-01])"
     },
     "metadata": {},
     "output_type": "execute_result",
     "execution_count": 40
    }
   ],
   "source": [
    "import numpy as np\n",
    "A=np.mat([[0,1,1,2,0,0,0],\n",
    "          [1,0,1,1,1,0,0],\n",
    "          [1,1,0,1,0,0,0],\n",
    "          [1,1,1,0,0,0,0],\n",
    "          [0,1,0,0,0,1,1],\n",
    "          [0,0,0,0,1,0,1],\n",
    "          [0,0,0,0,1,1,0]])\n",
    "print(np.linalg.norm(A[:,0]))\n",
    "print(A.T[0][:,5])\n",
    "q,r=np.linalg.qr(A)\n",
    "print(q)\n",
    "print(r)\n",
    "e=f=50\n",
    "f=1\n",
    "print(e)\n",
    "print(f)\n",
    "c=np.dot(A,A.T)\n",
    "# 计算特征向量\n",
    "a=np.linalg.eig(c)\n",
    "print(a)\n",
    "print(c)\n",
    "U,Sigm,VT=np.linalg.svd(c)\n",
    "print(U)\n",
    "print(Sigm)\n",
    "print(VT)\n",
    "np.diag(U)\n"
   ],
   "metadata": {
    "collapsed": false,
    "pycharm": {
     "name": "#%%\n",
     "is_executing": false
    }
   }
  },
  {
   "cell_type": "code",
   "execution_count": 5,
   "outputs": [
    {
     "name": "stdout",
     "text": [
      "16.000000000000004\n[[-0.2  0.4  0.8]\n [-0.4 -0.2 -0.4]\n [-0.4  0.8 -0.4]\n [-0.8 -0.4  0.2]]\n[[-5.  2. -1.]\n [ 0. -4.  1.]\n [ 0.  0. -2.]]\n"
     ],
     "output_type": "stream"
    }
   ],
   "source": [
    "import numpy as np\n",
    "\n",
    "a=np.array([-8/5,4/5,-16/5,8/5])\n",
    "s=np.dot(a,a.T)\n",
    "print(s)\n",
    "b=np.mat([[1,-2,-1],\n",
    "          [2,0,1],\n",
    "          [2,-4,2],\n",
    "          [4,0,0]])\n",
    "q,r=np.linalg.qr(b)\n",
    "print(q)\n",
    "print(r)"
   ],
   "metadata": {
    "collapsed": false,
    "pycharm": {
     "name": "#%%\n",
     "is_executing": false
    }
   }
  },
  {
   "cell_type": "code",
   "execution_count": 2,
   "outputs": [
    {
     "name": "stdout",
     "text": [
      "[[0. 0. 0.]\n [0. 0. 0.]\n [0. 0. 1.]]\n"
     ],
     "output_type": "stream"
    }
   ],
   "source": [
    "import numpy as np\n",
    "\n",
    "A=np.zeros((3,3))\n",
    "A[2,2]=1\n",
    "print(A)"
   ],
   "metadata": {
    "collapsed": false,
    "pycharm": {
     "name": "#%%\n",
     "is_executing": false
    }
   }
  },
  {
   "cell_type": "code",
   "execution_count": 13,
   "outputs": [
    {
     "name": "stdout",
     "text": [
      "0b10011010010\n0b1011000101110\n16\n"
     ],
     "output_type": "stream"
    }
   ],
   "source": [
    "b=bin(5678)\n",
    "c=bin(1234)\n",
    "print(c )\n",
    "print(b)\n",
    "print(np.power(2,4))"
   ],
   "metadata": {
    "collapsed": false,
    "pycharm": {
     "name": "#%%\n",
     "is_executing": false
    }
   }
  },
  {
   "cell_type": "code",
   "execution_count": 53,
   "outputs": [
    {
     "name": "stdout",
     "text": [
      "8\n[2 3]\n[0.5        0.66666667]\n[3 5]\n[-1 -1]\n[[0. 0. 0.]\n [0. 0. 0.]\n [0. 0. 0.]]\n[0. 0. 0. 0.]\n"
     ],
     "output_type": "stream"
    }
   ],
   "source": [
    "import numpy as np\n",
    "a=np.array([1,2])\n",
    "b=np.array([2,3])\n",
    "c=np.dot(a,b)\n",
    "print(c)\n",
    "d=np.multiply(1,b)\n",
    "print(d)\n",
    "m=np.divide(a,b)\n",
    "print(m)\n",
    "y=np.add(a,b)\n",
    "print(y)\n",
    "y=np.subtract(a,b)\n",
    "print(y)\n",
    "l=np.zeros((3,3))\n",
    "print(l)\n",
    "k=np.zeros(4)\n",
    "print(k)"
   ],
   "metadata": {
    "collapsed": false,
    "pycharm": {
     "name": "#%%\n",
     "is_executing": false
    }
   }
  },
  {
   "cell_type": "code",
   "execution_count": 49,
   "outputs": [
    {
     "name": "stdout",
     "text": [
      "i 1 j 0\naaaa\ni 2 j 0\ni 2 j 1\naaaa\ni 3 j 0\ni 3 j 1\ni 3 j 2\naaaa\n"
     ],
     "output_type": "stream"
    }
   ],
   "source": [
    "for i in range(1,4):\n",
    "    for j in range(0,5):\n",
    "        if i!=j:\n",
    "            print('i',i,'j',j)\n",
    "        else:\n",
    "            break\n",
    "    print(\"aaaa\")\n"
   ],
   "metadata": {
    "collapsed": false,
    "pycharm": {
     "name": "#%%\n",
     "is_executing": false
    }
   }
  }
 ],
 "metadata": {
  "kernelspec": {
   "display_name": "Python 3",
   "language": "python",
   "name": "python3"
  },
  "language_info": {
   "codemirror_mode": {
    "name": "ipython",
    "version": 3
   },
   "file_extension": ".py",
   "mimetype": "text/x-python",
   "name": "python",
   "nbconvert_exporter": "python",
   "pygments_lexer": "ipython3",
   "version": "3.7.2"
  },
  "pycharm": {
   "stem_cell": {
    "cell_type": "raw",
    "source": [],
    "metadata": {
     "collapsed": false
    }
   }
  }
 },
 "nbformat": 4,
 "nbformat_minor": 1
}