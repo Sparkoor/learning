{
  "cells": [
    {
      "cell_type": "code",
      "execution_count": 16,
      "metadata": {
        "collapsed": true,
        "pycharm": {
          "is_executing": false
        }
      },
      "outputs": [
        {
          "name": "stdout",
          "text": [
            "34352\n\u003cnumpy.lib.npyio.NpzFile object at 0x000001A627F4ADD8\u003e\n{\u0027test_data\u0027: array([[   0,  838, 4153],\n       [   5,  335, 2825],\n       [   5,  940, 5200],\n       ...,\n       [   1,  213, 4617],\n       [  11,  544, 5412],\n       [   1,  722, 5754]], dtype\u003dint64), \u0027nums_type\u0027: array([  12, 1077, 6398], dtype\u003dint64)}\n"
          ],
          "output_type": "stream"
        }
      ],
      "source": "import numpy as np\n# note:加载数据的方法\ndata\u003dnp.load(r\u0027D:\\work\\learning\\DHNE\\data\\drug\\test_data.npz\u0027)\nprint(len(data[\u0027test_data\u0027]))\nprint(\"{}\".format(data))\nprint(dict(data))"
    },
    {
      "cell_type": "code",
      "execution_count": null,
      "outputs": [],
      "source": "\n",
      "metadata": {
        "pycharm": {
          "metadata": false,
          "name": "#%%\n"
        }
      }
    }
  ],
  "metadata": {
    "language_info": {
      "codemirror_mode": {
        "name": "ipython",
        "version": 2
      },
      "file_extension": ".py",
      "mimetype": "text/x-python",
      "name": "python",
      "nbconvert_exporter": "python",
      "pygments_lexer": "ipython2",
      "version": "2.7.6"
    },
    "kernelspec": {
      "name": "python3",
      "language": "python",
      "display_name": "Python 3"
    }
  },
  "nbformat": 4,
  "nbformat_minor": 0
}